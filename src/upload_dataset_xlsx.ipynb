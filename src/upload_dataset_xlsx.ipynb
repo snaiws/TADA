{
 "cells": [
  {
   "cell_type": "code",
   "execution_count": 1,
   "metadata": {},
   "outputs": [],
   "source": [
    "import os  \n",
    "import sys  \n",
    "import zipfile  \n",
    "import tempfile  \n",
    "import shutil  \n",
    "from tqdm.notebook import tqdm  \n",
    "from dotenv import load_dotenv  \n",
    "\n",
    "# 프로젝트 루트 경로 설정  \n",
    "#sys.path.append('./src')  \n",
    "\n",
    "\n",
    "from update_objectfile import upload_file_with_metadata  \n",
    "from data_engineering.obj_storage.boto3 import MinIOClient  \n",
    "from data_engineering.db.connector import Database  "
   ]
  },
  {
   "cell_type": "code",
   "execution_count": 2,
   "metadata": {},
   "outputs": [],
   "source": [
    "# 버킷 이름 설정  \n",
    "BUCKET_NAME = \"tada\"  \n",
    "\n",
    "# 지원하는 파일 확장자  \n",
    "SUPPORTED_EXTENSIONS = {\".xlsx\", \".json\"}  \n",
    "\n",
    "def is_valid_file(filename):  \n",
    "    \"\"\"지원하는 확장자인지 확인\"\"\"  \n",
    "    return any(filename.lower().endswith(ext) for ext in SUPPORTED_EXTENSIONS)  \n",
    "\n",
    "def get_uploaded_files():  \n",
    "    \"\"\"DB에서 이미 업로드된 파일 목록 가져오기\"\"\"  \n",
    "    db = Database(  \n",
    "        host=os.getenv('DB_HOST'),  \n",
    "        port=int(os.getenv('DB_PORT')),  \n",
    "        user=os.getenv('DB_USER'),  \n",
    "        password=os.getenv('DB_PASSWORD'),  \n",
    "        database=os.getenv('DB_NAME')  \n",
    "    )  \n",
    "    \n",
    "    query = \"SELECT category, object_path FROM object_storage\"  \n",
    "    results = db.getter(query)  \n",
    "    return {(record['category'], record['object_path']) for record in results}"
   ]
  },
  {
   "cell_type": "code",
   "execution_count": null,
   "metadata": {},
   "outputs": [],
   "source": [
    "# 환경 변수 로드  \n",
    "load_dotenv('.env')  \n",
    "\n",
    "# MinIO 클라이언트 초기화  \n",
    "minio_client = MinIOClient()  \n",
    "\n",
    "# 데이터셋 경로 설정 (상대 경로 사용)  \n",
    "DATASET_PATH = \".\"  \n",
    "\n",
    "# 처리할 디렉토리 구조  \n",
    "DIRECTORIES = [  \n",
    "    \"Training/01.원천데이터\",  \n",
    "    \"Training/02.라벨링데이터\",  \n",
    "    \"Validation/01.원천데이터\",  \n",
    "    \"Validation/02.라벨링데이터\"  \n",
    "]  "
   ]
  },
  {
   "cell_type": "code",
   "execution_count": null,
   "metadata": {},
   "outputs": [
    {
     "name": "stdout",
     "output_type": "stream",
     "text": [
      "object_storage 테이블이 성공적으로 생성되었습니다.\n",
      "이미 업로드된 파일 수: 0\n",
      "임시 디렉토리 생성됨: C:\\Users\\dongr\\AppData\\Local\\Temp\\tmp6w8zahqv\n",
      "\n",
      "처리 중인 디렉토리: Training/01.원천데이터\n",
      "발견된 ZIP 파일 수: 5\n"
     ]
    },
    {
     "data": {
      "application/vnd.jupyter.widget-view+json": {
       "model_id": "47308199a94749529a7d216de6da243b",
       "version_major": 2,
       "version_minor": 0
      },
      "text/plain": [
       "ZIP 파일 처리 중:   0%|          | 0/5 [00:00<?, ?it/s]"
      ]
     },
     "metadata": {},
     "output_type": "display_data"
    },
    {
     "data": {
      "application/vnd.jupyter.widget-view+json": {
       "model_id": "59deb48301ea48388fa053a670670341",
       "version_major": 2,
       "version_minor": 0
      },
      "text/plain": [
       "파일 추출 중:   0%|          | 0/14344 [00:00<?, ?it/s]"
      ]
     },
     "metadata": {},
     "output_type": "display_data"
    },
    {
     "data": {
      "application/vnd.jupyter.widget-view+json": {
       "model_id": "f2e1aa0b15c04bbf81b2c0aecea578a8",
       "version_major": 2,
       "version_minor": 0
      },
      "text/plain": [
       "파일 추출 중:   0%|          | 0/1118 [00:00<?, ?it/s]"
      ]
     },
     "metadata": {},
     "output_type": "display_data"
    },
    {
     "data": {
      "application/vnd.jupyter.widget-view+json": {
       "model_id": "d639c844b23a41dfa79e62cbd869c138",
       "version_major": 2,
       "version_minor": 0
      },
      "text/plain": [
       "파일 추출 중:   0%|          | 0/14413 [00:00<?, ?it/s]"
      ]
     },
     "metadata": {},
     "output_type": "display_data"
    },
    {
     "name": "stdout",
     "output_type": "stream",
     "text": [
      "임시 디렉토리 정리 완료\n"
     ]
    },
    {
     "ename": "KeyboardInterrupt",
     "evalue": "",
     "output_type": "error",
     "traceback": [
      "\u001b[1;31m---------------------------------------------------------------------------\u001b[0m",
      "\u001b[1;31mKeyboardInterrupt\u001b[0m                         Traceback (most recent call last)",
      "Cell \u001b[1;32mIn[5], line 44\u001b[0m\n\u001b[0;32m     40\u001b[0m     shutil\u001b[38;5;241m.\u001b[39mcopyfileobj(source, target)  \n\u001b[0;32m     42\u001b[0m \u001b[38;5;28;01mtry\u001b[39;00m:  \n\u001b[0;32m     43\u001b[0m     \u001b[38;5;66;03m# MinIO 업로드 및 메타데이터 저장  \u001b[39;00m\n\u001b[1;32m---> 44\u001b[0m     success \u001b[38;5;241m=\u001b[39m upload_file_with_metadata(  \n\u001b[0;32m     45\u001b[0m         local_path\u001b[38;5;241m=\u001b[39mtemp_path,  \n\u001b[0;32m     46\u001b[0m         category\u001b[38;5;241m=\u001b[39mcategory,  \n\u001b[0;32m     47\u001b[0m         bucket\u001b[38;5;241m=\u001b[39mBUCKET_NAME,  \n\u001b[0;32m     48\u001b[0m         object_path\u001b[38;5;241m=\u001b[39mobject_key  \n\u001b[0;32m     49\u001b[0m     )  \n\u001b[0;32m     50\u001b[0m     \u001b[38;5;28;01mif\u001b[39;00m \u001b[38;5;129;01mnot\u001b[39;00m success:  \n\u001b[0;32m     51\u001b[0m         \u001b[38;5;28mprint\u001b[39m(\u001b[38;5;124mf\u001b[39m\u001b[38;5;124m\"\u001b[39m\u001b[38;5;124m업로드 실패: \u001b[39m\u001b[38;5;132;01m{\u001b[39;00mobject_key\u001b[38;5;132;01m}\u001b[39;00m\u001b[38;5;124m\"\u001b[39m)  \n",
      "File \u001b[1;32mg:\\Dropbox\\OssmMath\\52_AI-Project\\TADA\\src\\update_objectfile.py:37\u001b[0m, in \u001b[0;36mupload_file_with_metadata\u001b[1;34m(local_path, category, bucket, object_path)\u001b[0m\n\u001b[0;32m     28\u001b[0m db \u001b[38;5;241m=\u001b[39m Database(  \n\u001b[0;32m     29\u001b[0m     host\u001b[38;5;241m=\u001b[39mos\u001b[38;5;241m.\u001b[39mgetenv(\u001b[38;5;124m'\u001b[39m\u001b[38;5;124mDB_HOST\u001b[39m\u001b[38;5;124m'\u001b[39m),  \n\u001b[0;32m     30\u001b[0m     port\u001b[38;5;241m=\u001b[39m\u001b[38;5;28mint\u001b[39m(os\u001b[38;5;241m.\u001b[39mgetenv(\u001b[38;5;124m'\u001b[39m\u001b[38;5;124mDB_PORT\u001b[39m\u001b[38;5;124m'\u001b[39m)),  \n\u001b[1;32m   (...)\u001b[0m\n\u001b[0;32m     33\u001b[0m     database\u001b[38;5;241m=\u001b[39mos\u001b[38;5;241m.\u001b[39mgetenv(\u001b[38;5;124m'\u001b[39m\u001b[38;5;124mDB_NAME\u001b[39m\u001b[38;5;124m'\u001b[39m)  \n\u001b[0;32m     34\u001b[0m )  \n\u001b[0;32m     36\u001b[0m \u001b[38;5;66;03m# 메타데이터 DB 저장  \u001b[39;00m\n\u001b[1;32m---> 37\u001b[0m \u001b[38;5;28;01mif\u001b[39;00m \u001b[38;5;129;01mnot\u001b[39;00m insert_file_metadata(db, local_path, category, bucket, object_path):  \n\u001b[0;32m     38\u001b[0m     \u001b[38;5;28;01mreturn\u001b[39;00m \u001b[38;5;28;01mFalse\u001b[39;00m  \n\u001b[0;32m     40\u001b[0m \u001b[38;5;28;01mreturn\u001b[39;00m \u001b[38;5;28;01mTrue\u001b[39;00m  \n",
      "File \u001b[1;32mg:\\Dropbox\\OssmMath\\52_AI-Project\\TADA\\src\\data_engineering\\db\\insert_object_metadata.py:40\u001b[0m, in \u001b[0;36minsert_file_metadata\u001b[1;34m(db, local_path, category, bucket_name, object_path)\u001b[0m\n\u001b[0;32m     32\u001b[0m     metadata \u001b[38;5;241m=\u001b[39m get_file_metadata(local_path, category, bucket_name, object_path)  \n\u001b[0;32m     34\u001b[0m     query \u001b[38;5;241m=\u001b[39m \u001b[38;5;124m\"\"\"\u001b[39m\u001b[38;5;124m  \u001b[39m\n\u001b[0;32m     35\u001b[0m \u001b[38;5;124m    INSERT INTO object_storage   \u001b[39m\n\u001b[0;32m     36\u001b[0m \u001b[38;5;124m    (category, bucket_name, object_path, file_name, ext, size, version)  \u001b[39m\n\u001b[0;32m     37\u001b[0m \u001b[38;5;124m    VALUES (\u001b[39m\u001b[38;5;132;01m%s\u001b[39;00m\u001b[38;5;124m, \u001b[39m\u001b[38;5;132;01m%s\u001b[39;00m\u001b[38;5;124m, \u001b[39m\u001b[38;5;132;01m%s\u001b[39;00m\u001b[38;5;124m, \u001b[39m\u001b[38;5;132;01m%s\u001b[39;00m\u001b[38;5;124m, \u001b[39m\u001b[38;5;132;01m%s\u001b[39;00m\u001b[38;5;124m, \u001b[39m\u001b[38;5;132;01m%s\u001b[39;00m\u001b[38;5;124m, \u001b[39m\u001b[38;5;132;01m%s\u001b[39;00m\u001b[38;5;124m)  \u001b[39m\n\u001b[0;32m     38\u001b[0m \u001b[38;5;124m    \u001b[39m\u001b[38;5;124m\"\"\"\u001b[39m  \n\u001b[1;32m---> 40\u001b[0m     db\u001b[38;5;241m.\u001b[39msetter(query, metadata)  \n\u001b[0;32m     41\u001b[0m     \u001b[38;5;28;01mreturn\u001b[39;00m \u001b[38;5;28;01mTrue\u001b[39;00m  \n\u001b[0;32m     43\u001b[0m \u001b[38;5;28;01mexcept\u001b[39;00m \u001b[38;5;167;01mException\u001b[39;00m \u001b[38;5;28;01mas\u001b[39;00m e:  \n",
      "File \u001b[1;32mg:\\Dropbox\\OssmMath\\52_AI-Project\\TADA\\src\\data_engineering\\db\\connector.py:76\u001b[0m, in \u001b[0;36mDatabase.setter\u001b[1;34m(self, query, params)\u001b[0m\n\u001b[0;32m     74\u001b[0m     \u001b[38;5;28mself\u001b[39m\u001b[38;5;241m.\u001b[39m_ensure_connection()  \n\u001b[0;32m     75\u001b[0m     \u001b[38;5;28mself\u001b[39m\u001b[38;5;241m.\u001b[39mcursor\u001b[38;5;241m.\u001b[39mexecute(query, params)  \n\u001b[1;32m---> 76\u001b[0m     \u001b[38;5;28mself\u001b[39m\u001b[38;5;241m.\u001b[39mconnection\u001b[38;5;241m.\u001b[39mcommit()  \n\u001b[0;32m     77\u001b[0m \u001b[38;5;28;01mexcept\u001b[39;00m \u001b[38;5;167;01mException\u001b[39;00m \u001b[38;5;28;01mas\u001b[39;00m e:  \n\u001b[0;32m     78\u001b[0m     \u001b[38;5;28;01mif\u001b[39;00m \u001b[38;5;28mself\u001b[39m\u001b[38;5;241m.\u001b[39mconnection:  \n",
      "File \u001b[1;32m~\\AppData\\Roaming\\Python\\Python312\\site-packages\\pymysql\\connections.py:483\u001b[0m, in \u001b[0;36mConnection.commit\u001b[1;34m(self)\u001b[0m\n\u001b[0;32m    476\u001b[0m \u001b[38;5;250m\u001b[39m\u001b[38;5;124;03m\"\"\"\u001b[39;00m\n\u001b[0;32m    477\u001b[0m \u001b[38;5;124;03mCommit changes to stable storage.\u001b[39;00m\n\u001b[0;32m    478\u001b[0m \n\u001b[0;32m    479\u001b[0m \u001b[38;5;124;03mSee `Connection.commit() <https://www.python.org/dev/peps/pep-0249/#commit>`_\u001b[39;00m\n\u001b[0;32m    480\u001b[0m \u001b[38;5;124;03min the specification.\u001b[39;00m\n\u001b[0;32m    481\u001b[0m \u001b[38;5;124;03m\"\"\"\u001b[39;00m\n\u001b[0;32m    482\u001b[0m \u001b[38;5;28mself\u001b[39m\u001b[38;5;241m.\u001b[39m_execute_command(COMMAND\u001b[38;5;241m.\u001b[39mCOM_QUERY, \u001b[38;5;124m\"\u001b[39m\u001b[38;5;124mCOMMIT\u001b[39m\u001b[38;5;124m\"\u001b[39m)\n\u001b[1;32m--> 483\u001b[0m \u001b[38;5;28mself\u001b[39m\u001b[38;5;241m.\u001b[39m_read_ok_packet()\n",
      "File \u001b[1;32m~\\AppData\\Roaming\\Python\\Python312\\site-packages\\pymysql\\connections.py:453\u001b[0m, in \u001b[0;36mConnection._read_ok_packet\u001b[1;34m(self)\u001b[0m\n\u001b[0;32m    452\u001b[0m \u001b[38;5;28;01mdef\u001b[39;00m \u001b[38;5;21m_read_ok_packet\u001b[39m(\u001b[38;5;28mself\u001b[39m):\n\u001b[1;32m--> 453\u001b[0m     pkt \u001b[38;5;241m=\u001b[39m \u001b[38;5;28mself\u001b[39m\u001b[38;5;241m.\u001b[39m_read_packet()\n\u001b[0;32m    454\u001b[0m     \u001b[38;5;28;01mif\u001b[39;00m \u001b[38;5;129;01mnot\u001b[39;00m pkt\u001b[38;5;241m.\u001b[39mis_ok_packet():\n\u001b[0;32m    455\u001b[0m         \u001b[38;5;28;01mraise\u001b[39;00m err\u001b[38;5;241m.\u001b[39mOperationalError(\n\u001b[0;32m    456\u001b[0m             CR\u001b[38;5;241m.\u001b[39mCR_COMMANDS_OUT_OF_SYNC,\n\u001b[0;32m    457\u001b[0m             \u001b[38;5;124m\"\u001b[39m\u001b[38;5;124mCommand Out of Sync\u001b[39m\u001b[38;5;124m\"\u001b[39m,\n\u001b[0;32m    458\u001b[0m         )\n",
      "File \u001b[1;32m~\\AppData\\Roaming\\Python\\Python312\\site-packages\\pymysql\\connections.py:744\u001b[0m, in \u001b[0;36mConnection._read_packet\u001b[1;34m(self, packet_type)\u001b[0m\n\u001b[0;32m    742\u001b[0m buff \u001b[38;5;241m=\u001b[39m \u001b[38;5;28mbytearray\u001b[39m()\n\u001b[0;32m    743\u001b[0m \u001b[38;5;28;01mwhile\u001b[39;00m \u001b[38;5;28;01mTrue\u001b[39;00m:\n\u001b[1;32m--> 744\u001b[0m     packet_header \u001b[38;5;241m=\u001b[39m \u001b[38;5;28mself\u001b[39m\u001b[38;5;241m.\u001b[39m_read_bytes(\u001b[38;5;241m4\u001b[39m)\n\u001b[0;32m    745\u001b[0m     \u001b[38;5;66;03m# if DEBUG: dump_packet(packet_header)\u001b[39;00m\n\u001b[0;32m    747\u001b[0m     btrl, btrh, packet_number \u001b[38;5;241m=\u001b[39m struct\u001b[38;5;241m.\u001b[39munpack(\u001b[38;5;124m\"\u001b[39m\u001b[38;5;124m<HBB\u001b[39m\u001b[38;5;124m\"\u001b[39m, packet_header)\n",
      "File \u001b[1;32m~\\AppData\\Roaming\\Python\\Python312\\site-packages\\pymysql\\connections.py:782\u001b[0m, in \u001b[0;36mConnection._read_bytes\u001b[1;34m(self, num_bytes)\u001b[0m\n\u001b[0;32m    780\u001b[0m \u001b[38;5;28;01mwhile\u001b[39;00m \u001b[38;5;28;01mTrue\u001b[39;00m:\n\u001b[0;32m    781\u001b[0m     \u001b[38;5;28;01mtry\u001b[39;00m:\n\u001b[1;32m--> 782\u001b[0m         data \u001b[38;5;241m=\u001b[39m \u001b[38;5;28mself\u001b[39m\u001b[38;5;241m.\u001b[39m_rfile\u001b[38;5;241m.\u001b[39mread(num_bytes)\n\u001b[0;32m    783\u001b[0m         \u001b[38;5;28;01mbreak\u001b[39;00m\n\u001b[0;32m    784\u001b[0m     \u001b[38;5;28;01mexcept\u001b[39;00m \u001b[38;5;167;01mOSError\u001b[39;00m \u001b[38;5;28;01mas\u001b[39;00m e:\n",
      "File \u001b[1;32mc:\\ProgramData\\anaconda3\\Lib\\socket.py:720\u001b[0m, in \u001b[0;36mSocketIO.readinto\u001b[1;34m(self, b)\u001b[0m\n\u001b[0;32m    718\u001b[0m \u001b[38;5;28;01mwhile\u001b[39;00m \u001b[38;5;28;01mTrue\u001b[39;00m:\n\u001b[0;32m    719\u001b[0m     \u001b[38;5;28;01mtry\u001b[39;00m:\n\u001b[1;32m--> 720\u001b[0m         \u001b[38;5;28;01mreturn\u001b[39;00m \u001b[38;5;28mself\u001b[39m\u001b[38;5;241m.\u001b[39m_sock\u001b[38;5;241m.\u001b[39mrecv_into(b)\n\u001b[0;32m    721\u001b[0m     \u001b[38;5;28;01mexcept\u001b[39;00m timeout:\n\u001b[0;32m    722\u001b[0m         \u001b[38;5;28mself\u001b[39m\u001b[38;5;241m.\u001b[39m_timeout_occurred \u001b[38;5;241m=\u001b[39m \u001b[38;5;28;01mTrue\u001b[39;00m\n",
      "\u001b[1;31mKeyboardInterrupt\u001b[0m: "
     ]
    },
    {
     "ename": "",
     "evalue": "",
     "output_type": "error",
     "traceback": [
      "\u001b[1;31mThe Kernel crashed while executing code in the current cell or a previous cell. \n",
      "\u001b[1;31mPlease review the code in the cell(s) to identify a possible cause of the failure. \n",
      "\u001b[1;31mClick <a href='https://aka.ms/vscodeJupyterKernelCrash'>here</a> for more info. \n",
      "\u001b[1;31mView Jupyter <a href='command:jupyter.viewOutput'>log</a> for further details."
     ]
    }
   ],
   "source": [
    "# DB 테이블 생성 확인  \n",
    "from data_engineering.db.init_db import create_object_storage_table  \n",
    "create_object_storage_table()  \n",
    "\n",
    "# 이미 업로드된 파일 목록 가져오기  \n",
    "uploaded_files = get_uploaded_files()  \n",
    "print(f\"이미 업로드된 파일 수: {len(uploaded_files)}\")  \n",
    "\n",
    "# 임시 디렉토리 생성  \n",
    "temp_dir = tempfile.mkdtemp()  \n",
    "print(f\"임시 디렉토리 생성됨: {temp_dir}\")  \n",
    "\n",
    "try:  \n",
    "    # 각 디렉토리 처리  \n",
    "    for dir_path in DIRECTORIES:  \n",
    "        current_path = os.path.join(DATASET_PATH, dir_path)  \n",
    "        print(f\"\\n처리 중인 디렉토리: {dir_path}\")  \n",
    "        \n",
    "        # ZIP 파일 목록 가져오기  \n",
    "        zip_files = [f for f in os.listdir(current_path) if f.endswith('.zip')]  \n",
    "        print(f\"발견된 ZIP 파일 수: {len(zip_files)}\")  \n",
    "        \n",
    "        # 각 ZIP 파일 처리  \n",
    "        for zip_filename in tqdm(zip_files, desc=\"ZIP 파일 처리 중\"):  \n",
    "            zip_path = os.path.join(current_path, zip_filename)  \n",
    "            category = f\"{dir_path}/{os.path.splitext(zip_filename)[0]}\"  \n",
    "            \n",
    "            with zipfile.ZipFile(zip_path, 'r') as zip_ref:  \n",
    "                for file_info in tqdm(zip_ref.filelist, desc=\"파일 추출 중\"):  \n",
    "                    if is_valid_file(file_info.filename):  \n",
    "                        object_key = f\"{category}/{os.path.basename(file_info.filename)}\"  \n",
    "                        \n",
    "                        # 이미 업로드된 파일 건너뛰기  \n",
    "                        if (category, object_key) in uploaded_files:  \n",
    "                            continue  \n",
    "                        \n",
    "                        # 임시 파일로 추출  \n",
    "                        temp_path = os.path.join(temp_dir, os.path.basename(file_info.filename))  \n",
    "                        with zip_ref.open(file_info) as source, open(temp_path, 'wb') as target:  \n",
    "                            shutil.copyfileobj(source, target)  \n",
    "                        \n",
    "                        try:  \n",
    "                            # MinIO 업로드 및 메타데이터 저장  \n",
    "                            success = upload_file_with_metadata(  \n",
    "                                local_path=temp_path,  \n",
    "                                category=category,  \n",
    "                                bucket=BUCKET_NAME,  \n",
    "                                object_path=object_key  \n",
    "                            )  \n",
    "                            if not success:  \n",
    "                                print(f\"업로드 실패: {object_key}\")  \n",
    "                        except Exception as e:  \n",
    "                            print(f\"처리 실패: {object_key} - {str(e)}\")  \n",
    "                        \n",
    "                        # 임시 파일 삭제  \n",
    "                        os.remove(temp_path)  \n",
    "\n",
    "finally:  \n",
    "    # 임시 디렉토리 정리  \n",
    "    shutil.rmtree(temp_dir)  \n",
    "    print(\"임시 디렉토리 정리 완료\")  "
   ]
  },
  {
   "cell_type": "code",
   "execution_count": null,
   "metadata": {},
   "outputs": [],
   "source": []
  }
 ],
 "metadata": {
  "kernelspec": {
   "display_name": "base",
   "language": "python",
   "name": "python3"
  },
  "language_info": {
   "codemirror_mode": {
    "name": "ipython",
    "version": 3
   },
   "file_extension": ".py",
   "mimetype": "text/x-python",
   "name": "python",
   "nbconvert_exporter": "python",
   "pygments_lexer": "ipython3",
   "version": "3.12.7"
  }
 },
 "nbformat": 4,
 "nbformat_minor": 2
}

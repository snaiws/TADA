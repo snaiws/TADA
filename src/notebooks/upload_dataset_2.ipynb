{
 "cells": [
  {
   "cell_type": "markdown",
   "metadata": {},
   "source": [
    "# 공개 이미지 데이터셋 MinIO 업로드 스크립트\n",
    "\n",
    "zip 파일로 된 이미지 데이터셋을 풀어서 MinIO 서버에 업로드합니다."
   ]
  },
  {
   "cell_type": "code",
   "execution_count": null,
   "metadata": {},
   "outputs": [],
   "source": [
    "import os\n",
    "from pathlib import Path\n",
    "import sys\n",
    "import zipfile\n",
    "import tempfile\n",
    "import shutil\n",
    "\n",
    "# src 디렉토리를 파이썬 경로에 추가\n",
    "project_root = Path.cwd().parent\n",
    "sys.path.append(str(project_root))\n",
    "\n",
    "from data_engineering.obj_storage.boto3 import MinIOClient"
   ]
  },
  {
   "cell_type": "code",
   "execution_count": null,
   "metadata": {},
   "outputs": [],
   "source": [
    "# MinIO 클라이언트 초기화\n",
    "minio_client = MinIOClient()\n",
    "\n",
    "# 버킷 이름 설정\n",
    "BUCKET_NAME = \"tada\"  # 원하는 버킷 이름으로 변경하세요\n",
    "\n",
    "# 데이터셋 경로 설정\n",
    "DATASET_PATH = project_root / \"temp\" / / \"239.건축 도면 데이터\" / \"01-1.정식개방데이터\" / \"Training\" / \"01.원천데이터\""
   ]
  },
  {
   "cell_type": "code",
   "execution_count": null,
   "metadata": {},
   "outputs": [],
   "source": [
    "# 버킷이 없으면 생성\n",
    "if not minio_client.bucket_exists(BUCKET_NAME):\n",
    "    minio_client.create_bucket(BUCKET_NAME)\n",
    "    print(f\"버킷 '{BUCKET_NAME}' 생성 완료\")\n",
    "else:\n",
    "    print(f\"버킷 '{BUCKET_NAME}' 이미 존재함\")"
   ]
  },
  {
   "cell_type": "code",
   "execution_count": null,
   "metadata": {},
   "outputs": [],
   "source": [
    "# 지원하는 이미지 확장자\n",
    "IMAGE_EXTENSIONS = {\".jpg\", \".jpeg\", \".png\", \".gif\", \".bmp\"}\n",
    "\n",
    "def is_image_file(filename):\n",
    "    return any(filename.lower().endswith(ext) for ext in IMAGE_EXTENSIONS)\n",
    "\n",
    "# 임시 디렉토리 생성\n",
    "temp_dir = Path(tempfile.mkdtemp())\n",
    "print(f\"임시 디렉토리 생성됨: {temp_dir}\")\n",
    "\n",
    "try:\n",
    "    from tqdm.notebook import tqdm\n",
    "    \n",
    "    # ZIP 파일 목록 가져오기\n",
    "    zip_files = list(DATASET_PATH.glob(\"*.zip\"))\n",
    "    print(f\"처리할 ZIP 파일 수: {len(zip_files)}\")\n",
    "    \n",
    "    # 각 ZIP 파일 처리\n",
    "    for zip_path in tqdm(zip_files, desc=\"ZIP 파일 처리 중\"):\n",
    "        category = zip_path.stem  # ZIP 파일 이름을 카테고리로 사용\n",
    "        print(f\"\\n처리 중인 카테고리: {category}\")\n",
    "        \n",
    "        # ZIP 파일 압축 해제\n",
    "        with zipfile.ZipFile(zip_path, 'r') as zip_ref:\n",
    "            # 이미지 파일만 추출\n",
    "            for file_info in tqdm(zip_ref.filelist, desc=\"파일 추출 중\"):\n",
    "                if is_image_file(file_info.filename):\n",
    "                    # 파일 경로에서 디렉토리 구조 유지\n",
    "                    relative_path = Path(file_info.filename)\n",
    "                    object_key = f\"{category}/{relative_path}\"\n",
    "                    \n",
    "                    # 임시 파일로 추출\n",
    "                    temp_path = temp_dir / relative_path.name\n",
    "                    with zip_ref.open(file_info) as source, open(temp_path, 'wb') as target:\n",
    "                        shutil.copyfileobj(source, target)\n",
    "                    \n",
    "                    try:\n",
    "                        # MinIO에 업로드\n",
    "                        minio_client.upload_file(\n",
    "                            bucket_name=BUCKET_NAME,\n",
    "                            object_name=object_key,\n",
    "                            file_path=str(temp_path)\n",
    "                        )\n",
    "                    except Exception as e:\n",
    "                        print(f\"업로드 실패: {object_key} - {str(e)}\")\n",
    "                    \n",
    "                    # 임시 파일 삭제\n",
    "                    temp_path.unlink()\n",
    "\n",
    "finally:\n",
    "    # 임시 디렉토리 정리\n",
    "    shutil.rmtree(temp_dir)\n",
    "    print(\"임시 디렉토리 정리 완료\")"
   ]
  },
  {
   "cell_type": "code",
   "execution_count": null,
   "metadata": {},
   "outputs": [],
   "source": [
    "# 업로드된 파일 확인\n",
    "uploaded_files = minio_client.list_objects(BUCKET_NAME)\n",
    "print(f\"업로드된 총 파일 수: {len(uploaded_files)}\")\n",
    "\n",
    "# 처음 몇 개의 파일 출력\n",
    "print(\"\\n업로드된 파일 목록 (처음 5개):\")\n",
    "for obj in list(uploaded_files)[:5]:\n",
    "    print(f\"- {obj}\")"
   ]
  }
 ],
 "metadata": {
  "kernelspec": {
   "display_name": "Python 3",
   "language": "python",
   "name": "python3"
  },
  "language_info": {
   "codemirror_mode": {
    "name": "ipython",
    "version": 3
   },
   "file_extension": ".py",
   "mimetype": "text/x-python",
   "name": "python",
   "nbconvert_exporter": "python",
   "pygments_lexer": "ipython3",
   "version": "3.8.0"
  }
 },
 "nbformat": 4,
 "nbformat_minor": 4
}
